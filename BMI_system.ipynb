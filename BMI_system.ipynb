{
  "nbformat": 4,
  "nbformat_minor": 0,
  "metadata": {
    "colab": {
      "provenance": []
    },
    "kernelspec": {
      "name": "python3",
      "display_name": "Python 3"
    },
    "language_info": {
      "name": "python"
    }
  },
  "cells": [
    {
      "cell_type": "code",
      "execution_count": 1,
      "metadata": {
        "colab": {
          "base_uri": "https://localhost:8080/"
        },
        "id": "x2msXG1Zn1NK",
        "outputId": "f9442e35-8b4b-4fdd-c595-ea8f722f6535"
      },
      "outputs": [
        {
          "output_type": "stream",
          "name": "stdout",
          "text": [
            "whats your name:Mika Benson\n",
            "Hello Mika Benson, welcome to our BMI calculation system\n"
          ]
        }
      ],
      "source": [
        "name = input(\"whats your name:\")\n",
        "print(f\"Hello {name}, welcome to our BMI calculation system\")"
      ]
    },
    {
      "cell_type": "code",
      "source": [
        "print(\"Provide us with the information below: \")\n",
        "weight = float(input(\"Enter your weight in Kgs: \"))\n",
        "height = float(input('Enter your height in Meters: '))\n",
        "\n",
        "BMI = round(weight/(height * height),2)\n",
        "\n",
        "print('++++++++++BMI Results++++++++++')\n",
        "print(f'Your BMI is: {BMI}')\n",
        "\n",
        "if BMI>25:\n",
        "    print(\"Overweight\")\n",
        "elif BMI < 18:\n",
        "    print ('Underweight')\n",
        "else:\n",
        "    print ('Normal')"
      ],
      "metadata": {
        "colab": {
          "base_uri": "https://localhost:8080/"
        },
        "id": "SIf4Ij-An2b9",
        "outputId": "d6ada769-1002-4184-f81a-3eb15b056ba8"
      },
      "execution_count": 2,
      "outputs": [
        {
          "output_type": "stream",
          "name": "stdout",
          "text": [
            "Provide us with the information below: \n",
            "Enter your weight in Kgs: 64\n",
            "Enter your height in Meters: 1.24\n",
            "++++++++++BMI Results++++++++++\n",
            "Your BMI is: 41.62\n",
            "Overweight\n"
          ]
        }
      ]
    },
    {
      "cell_type": "code",
      "source": [],
      "metadata": {
        "id": "UwFolJi-oCTX"
      },
      "execution_count": null,
      "outputs": []
    },
    {
      "cell_type": "code",
      "source": [],
      "metadata": {
        "id": "S0ECUZLLoH0k"
      },
      "execution_count": null,
      "outputs": []
    },
    {
      "cell_type": "code",
      "source": [],
      "metadata": {
        "id": "EU_S9wqBoH3b"
      },
      "execution_count": null,
      "outputs": []
    }
  ]
}